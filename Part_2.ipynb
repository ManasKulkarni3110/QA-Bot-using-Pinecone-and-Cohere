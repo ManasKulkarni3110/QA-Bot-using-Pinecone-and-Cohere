{
 "cells": [
  {
   "cell_type": "code",
   "execution_count": 2,
   "metadata": {},
   "outputs": [
    {
     "name": "stdout",
     "output_type": "stream",
     "text": [
      "Requirement already satisfied: streamlit in c:\\users\\manas\\anaconda3\\lib\\site-packages (1.38.0)\n",
      "Requirement already satisfied: PyMuPDF in c:\\users\\manas\\anaconda3\\lib\\site-packages (1.24.11)\n",
      "Requirement already satisfied: cohere in c:\\users\\manas\\anaconda3\\lib\\site-packages (5.11.0)\n",
      "Requirement already satisfied: pinecone-client in c:\\users\\manas\\anaconda3\\lib\\site-packages (5.0.1)\n",
      "Requirement already satisfied: datasets in c:\\users\\manas\\anaconda3\\lib\\site-packages (3.0.1)\n",
      "Requirement already satisfied: transformers in c:\\users\\manas\\anaconda3\\lib\\site-packages (4.41.2)\n",
      "Requirement already satisfied: sentence-transformers in c:\\users\\manas\\anaconda3\\lib\\site-packages (3.0.1)\n",
      "Requirement already satisfied: pdfplumber in c:\\users\\manas\\anaconda3\\lib\\site-packages (0.11.1)\n",
      "Requirement already satisfied: gradio in c:\\users\\manas\\anaconda3\\lib\\site-packages (5.1.0)\n",
      "Requirement already satisfied: PyPDF2 in c:\\users\\manas\\anaconda3\\lib\\site-packages (3.0.1)\n",
      "Requirement already satisfied: altair<6,>=4.0 in c:\\users\\manas\\anaconda3\\lib\\site-packages (from streamlit) (5.0.1)\n",
      "Requirement already satisfied: blinker<2,>=1.0.0 in c:\\users\\manas\\anaconda3\\lib\\site-packages (from streamlit) (1.6.2)\n",
      "Requirement already satisfied: cachetools<6,>=4.0 in c:\\users\\manas\\anaconda3\\lib\\site-packages (from streamlit) (5.5.0)\n",
      "Requirement already satisfied: click<9,>=7.0 in c:\\users\\manas\\anaconda3\\lib\\site-packages (from streamlit) (8.1.7)\n",
      "Requirement already satisfied: numpy<3,>=1.20 in c:\\users\\manas\\anaconda3\\lib\\site-packages (from streamlit) (1.26.4)\n",
      "Requirement already satisfied: packaging<25,>=20 in c:\\users\\manas\\anaconda3\\lib\\site-packages (from streamlit) (24.1)\n",
      "Requirement already satisfied: pandas<3,>=1.3.0 in c:\\users\\manas\\anaconda3\\lib\\site-packages (from streamlit) (2.1.4)\n",
      "Requirement already satisfied: pillow<11,>=7.1.0 in c:\\users\\manas\\anaconda3\\lib\\site-packages (from streamlit) (10.2.0)\n",
      "Requirement already satisfied: protobuf<6,>=3.20 in c:\\users\\manas\\anaconda3\\lib\\site-packages (from streamlit) (3.20.3)\n",
      "Requirement already satisfied: pyarrow>=7.0 in c:\\users\\manas\\anaconda3\\lib\\site-packages (from streamlit) (17.0.0)\n",
      "Requirement already satisfied: requests<3,>=2.27 in c:\\users\\manas\\anaconda3\\lib\\site-packages (from streamlit) (2.32.3)\n",
      "Requirement already satisfied: rich<14,>=10.14.0 in c:\\users\\manas\\anaconda3\\lib\\site-packages (from streamlit) (13.3.5)\n",
      "Requirement already satisfied: tenacity<9,>=8.1.0 in c:\\users\\manas\\anaconda3\\lib\\site-packages (from streamlit) (8.5.0)\n",
      "Requirement already satisfied: toml<2,>=0.10.1 in c:\\users\\manas\\anaconda3\\lib\\site-packages (from streamlit) (0.10.2)\n",
      "Requirement already satisfied: typing-extensions<5,>=4.3.0 in c:\\users\\manas\\anaconda3\\lib\\site-packages (from streamlit) (4.9.0)\n",
      "Requirement already satisfied: gitpython!=3.1.19,<4,>=3.0.7 in c:\\users\\manas\\anaconda3\\lib\\site-packages (from streamlit) (3.1.37)\n",
      "Requirement already satisfied: pydeck<1,>=0.8.0b4 in c:\\users\\manas\\anaconda3\\lib\\site-packages (from streamlit) (0.8.0)\n",
      "Requirement already satisfied: tornado<7,>=6.0.3 in c:\\users\\manas\\anaconda3\\lib\\site-packages (from streamlit) (6.3.3)\n",
      "Requirement already satisfied: watchdog<5,>=2.1.5 in c:\\users\\manas\\anaconda3\\lib\\site-packages (from streamlit) (2.1.6)\n",
      "Requirement already satisfied: boto3<2.0.0,>=1.34.0 in c:\\users\\manas\\anaconda3\\lib\\site-packages (from cohere) (1.35.36)\n",
      "Requirement already satisfied: fastavro<2.0.0,>=1.9.4 in c:\\users\\manas\\anaconda3\\lib\\site-packages (from cohere) (1.9.7)\n",
      "Requirement already satisfied: httpx>=0.21.2 in c:\\users\\manas\\anaconda3\\lib\\site-packages (from cohere) (0.27.0)\n",
      "Requirement already satisfied: httpx-sse==0.4.0 in c:\\users\\manas\\anaconda3\\lib\\site-packages (from cohere) (0.4.0)\n",
      "Requirement already satisfied: parameterized<0.10.0,>=0.9.0 in c:\\users\\manas\\anaconda3\\lib\\site-packages (from cohere) (0.9.0)\n",
      "Requirement already satisfied: pydantic>=1.9.2 in c:\\users\\manas\\anaconda3\\lib\\site-packages (from cohere) (2.9.2)\n",
      "Requirement already satisfied: pydantic-core<3.0.0,>=2.18.2 in c:\\users\\manas\\anaconda3\\lib\\site-packages (from cohere) (2.23.4)\n",
      "Requirement already satisfied: sagemaker<3.0.0,>=2.232.1 in c:\\users\\manas\\anaconda3\\lib\\site-packages (from cohere) (2.232.2)\n",
      "Requirement already satisfied: tokenizers<1,>=0.15 in c:\\users\\manas\\anaconda3\\lib\\site-packages (from cohere) (0.19.1)\n",
      "Requirement already satisfied: types-requests<3.0.0,>=2.0.0 in c:\\users\\manas\\anaconda3\\lib\\site-packages (from cohere) (2.32.0.20240914)\n",
      "Requirement already satisfied: certifi>=2019.11.17 in c:\\users\\manas\\anaconda3\\lib\\site-packages (from pinecone-client) (2024.6.2)\n",
      "Requirement already satisfied: pinecone-plugin-inference<2.0.0,>=1.0.3 in c:\\users\\manas\\anaconda3\\lib\\site-packages (from pinecone-client) (1.1.0)\n",
      "Requirement already satisfied: pinecone-plugin-interface<0.0.8,>=0.0.7 in c:\\users\\manas\\anaconda3\\lib\\site-packages (from pinecone-client) (0.0.7)\n",
      "Requirement already satisfied: tqdm>=4.64.1 in c:\\users\\manas\\anaconda3\\lib\\site-packages (from pinecone-client) (4.66.4)\n",
      "Requirement already satisfied: urllib3>=1.26.0 in c:\\users\\manas\\anaconda3\\lib\\site-packages (from pinecone-client) (2.0.7)\n",
      "Requirement already satisfied: filelock in c:\\users\\manas\\anaconda3\\lib\\site-packages (from datasets) (3.13.1)\n",
      "Requirement already satisfied: dill<0.3.9,>=0.3.0 in c:\\users\\manas\\anaconda3\\lib\\site-packages (from datasets) (0.3.8)\n",
      "Requirement already satisfied: xxhash in c:\\users\\manas\\anaconda3\\lib\\site-packages (from datasets) (3.5.0)\n",
      "Requirement already satisfied: multiprocess in c:\\users\\manas\\anaconda3\\lib\\site-packages (from datasets) (0.70.16)\n",
      "Requirement already satisfied: fsspec<=2024.6.1,>=2023.1.0 in c:\\users\\manas\\anaconda3\\lib\\site-packages (from fsspec[http]<=2024.6.1,>=2023.1.0->datasets) (2023.10.0)\n",
      "Requirement already satisfied: aiohttp in c:\\users\\manas\\anaconda3\\lib\\site-packages (from datasets) (3.9.3)\n",
      "Requirement already satisfied: huggingface-hub>=0.22.0 in c:\\users\\manas\\anaconda3\\lib\\site-packages (from datasets) (0.25.2)\n",
      "Requirement already satisfied: pyyaml>=5.1 in c:\\users\\manas\\anaconda3\\lib\\site-packages (from datasets) (6.0.1)\n",
      "Requirement already satisfied: regex!=2019.12.17 in c:\\users\\manas\\anaconda3\\lib\\site-packages (from transformers) (2023.10.3)\n",
      "Requirement already satisfied: safetensors>=0.4.1 in c:\\users\\manas\\anaconda3\\lib\\site-packages (from transformers) (0.4.3)\n",
      "Requirement already satisfied: torch>=1.11.0 in c:\\users\\manas\\anaconda3\\lib\\site-packages (from sentence-transformers) (2.3.1)\n",
      "Requirement already satisfied: scikit-learn in c:\\users\\manas\\anaconda3\\lib\\site-packages (from sentence-transformers) (1.2.2)\n",
      "Requirement already satisfied: scipy in c:\\users\\manas\\anaconda3\\lib\\site-packages (from sentence-transformers) (1.11.4)\n",
      "Requirement already satisfied: pdfminer.six==20231228 in c:\\users\\manas\\anaconda3\\lib\\site-packages (from pdfplumber) (20231228)\n",
      "Requirement already satisfied: pypdfium2>=4.18.0 in c:\\users\\manas\\anaconda3\\lib\\site-packages (from pdfplumber) (4.30.0)\n",
      "Requirement already satisfied: charset-normalizer>=2.0.0 in c:\\users\\manas\\anaconda3\\lib\\site-packages (from pdfminer.six==20231228->pdfplumber) (2.0.4)\n",
      "Requirement already satisfied: cryptography>=36.0.0 in c:\\users\\manas\\anaconda3\\lib\\site-packages (from pdfminer.six==20231228->pdfplumber) (42.0.2)\n",
      "Requirement already satisfied: aiofiles<24.0,>=22.0 in c:\\users\\manas\\anaconda3\\lib\\site-packages (from gradio) (23.2.1)\n",
      "Requirement already satisfied: anyio<5.0,>=3.0 in c:\\users\\manas\\anaconda3\\lib\\site-packages (from gradio) (4.2.0)\n",
      "Requirement already satisfied: fastapi<1.0 in c:\\users\\manas\\anaconda3\\lib\\site-packages (from gradio) (0.111.1)\n",
      "Requirement already satisfied: ffmpy in c:\\users\\manas\\anaconda3\\lib\\site-packages (from gradio) (0.4.0)\n",
      "Requirement already satisfied: gradio-client==1.4.0 in c:\\users\\manas\\anaconda3\\lib\\site-packages (from gradio) (1.4.0)\n",
      "Requirement already satisfied: jinja2<4.0 in c:\\users\\manas\\anaconda3\\lib\\site-packages (from gradio) (3.1.3)\n",
      "Requirement already satisfied: markupsafe~=2.0 in c:\\users\\manas\\anaconda3\\lib\\site-packages (from gradio) (2.1.3)\n",
      "Requirement already satisfied: orjson~=3.0 in c:\\users\\manas\\anaconda3\\lib\\site-packages (from gradio) (3.10.6)\n",
      "Requirement already satisfied: pydub in c:\\users\\manas\\anaconda3\\lib\\site-packages (from gradio) (0.25.1)\n",
      "Requirement already satisfied: python-multipart>=0.0.9 in c:\\users\\manas\\anaconda3\\lib\\site-packages (from gradio) (0.0.9)\n",
      "Requirement already satisfied: ruff>=0.2.2 in c:\\users\\manas\\anaconda3\\lib\\site-packages (from gradio) (0.6.9)\n",
      "Requirement already satisfied: semantic-version~=2.0 in c:\\users\\manas\\anaconda3\\lib\\site-packages (from gradio) (2.10.0)\n",
      "Requirement already satisfied: tomlkit==0.12.0 in c:\\users\\manas\\anaconda3\\lib\\site-packages (from gradio) (0.12.0)\n",
      "Requirement already satisfied: typer<1.0,>=0.12 in c:\\users\\manas\\anaconda3\\lib\\site-packages (from gradio) (0.12.3)\n",
      "Requirement already satisfied: uvicorn>=0.14.0 in c:\\users\\manas\\anaconda3\\lib\\site-packages (from gradio) (0.30.4)\n",
      "Requirement already satisfied: websockets<13.0,>=10.0 in c:\\users\\manas\\anaconda3\\lib\\site-packages (from gradio-client==1.4.0->gradio) (12.0)\n",
      "Requirement already satisfied: jsonschema>=3.0 in c:\\users\\manas\\anaconda3\\lib\\site-packages (from altair<6,>=4.0->streamlit) (4.19.2)\n",
      "Requirement already satisfied: toolz in c:\\users\\manas\\anaconda3\\lib\\site-packages (from altair<6,>=4.0->streamlit) (0.12.0)\n",
      "Requirement already satisfied: idna>=2.8 in c:\\users\\manas\\anaconda3\\lib\\site-packages (from anyio<5.0,>=3.0->gradio) (3.4)\n",
      "Requirement already satisfied: sniffio>=1.1 in c:\\users\\manas\\anaconda3\\lib\\site-packages (from anyio<5.0,>=3.0->gradio) (1.3.0)\n",
      "Requirement already satisfied: botocore<1.36.0,>=1.35.36 in c:\\users\\manas\\anaconda3\\lib\\site-packages (from boto3<2.0.0,>=1.34.0->cohere) (1.35.36)\n",
      "Requirement already satisfied: jmespath<2.0.0,>=0.7.1 in c:\\users\\manas\\anaconda3\\lib\\site-packages (from boto3<2.0.0,>=1.34.0->cohere) (1.0.1)\n",
      "Requirement already satisfied: s3transfer<0.11.0,>=0.10.0 in c:\\users\\manas\\anaconda3\\lib\\site-packages (from boto3<2.0.0,>=1.34.0->cohere) (0.10.3)\n",
      "Requirement already satisfied: colorama in c:\\users\\manas\\anaconda3\\lib\\site-packages (from click<9,>=7.0->streamlit) (0.4.6)\n",
      "Requirement already satisfied: starlette<0.38.0,>=0.37.2 in c:\\users\\manas\\anaconda3\\lib\\site-packages (from fastapi<1.0->gradio) (0.37.2)\n",
      "Requirement already satisfied: fastapi-cli>=0.0.2 in c:\\users\\manas\\anaconda3\\lib\\site-packages (from fastapi<1.0->gradio) (0.0.4)\n",
      "Requirement already satisfied: email_validator>=2.0.0 in c:\\users\\manas\\anaconda3\\lib\\site-packages (from fastapi<1.0->gradio) (2.2.0)\n",
      "Requirement already satisfied: aiosignal>=1.1.2 in c:\\users\\manas\\anaconda3\\lib\\site-packages (from aiohttp->datasets) (1.2.0)\n",
      "Requirement already satisfied: attrs>=17.3.0 in c:\\users\\manas\\anaconda3\\lib\\site-packages (from aiohttp->datasets) (23.1.0)\n",
      "Requirement already satisfied: frozenlist>=1.1.1 in c:\\users\\manas\\anaconda3\\lib\\site-packages (from aiohttp->datasets) (1.4.0)\n",
      "Requirement already satisfied: multidict<7.0,>=4.5 in c:\\users\\manas\\anaconda3\\lib\\site-packages (from aiohttp->datasets) (6.0.4)\n",
      "Requirement already satisfied: yarl<2.0,>=1.0 in c:\\users\\manas\\anaconda3\\lib\\site-packages (from aiohttp->datasets) (1.9.3)\n",
      "Requirement already satisfied: gitdb<5,>=4.0.1 in c:\\users\\manas\\anaconda3\\lib\\site-packages (from gitpython!=3.1.19,<4,>=3.0.7->streamlit) (4.0.7)\n",
      "Requirement already satisfied: httpcore==1.* in c:\\users\\manas\\anaconda3\\lib\\site-packages (from httpx>=0.21.2->cohere) (1.0.2)\n",
      "Requirement already satisfied: h11<0.15,>=0.13 in c:\\users\\manas\\anaconda3\\lib\\site-packages (from httpcore==1.*->httpx>=0.21.2->cohere) (0.14.0)\n",
      "Requirement already satisfied: python-dateutil>=2.8.2 in c:\\users\\manas\\anaconda3\\lib\\site-packages (from pandas<3,>=1.3.0->streamlit) (2.8.2)\n",
      "Requirement already satisfied: pytz>=2020.1 in c:\\users\\manas\\anaconda3\\lib\\site-packages (from pandas<3,>=1.3.0->streamlit) (2023.3.post1)\n",
      "Requirement already satisfied: tzdata>=2022.1 in c:\\users\\manas\\anaconda3\\lib\\site-packages (from pandas<3,>=1.3.0->streamlit) (2023.3)\n",
      "Requirement already satisfied: annotated-types>=0.6.0 in c:\\users\\manas\\anaconda3\\lib\\site-packages (from pydantic>=1.9.2->cohere) (0.7.0)\n",
      "Requirement already satisfied: markdown-it-py<3.0.0,>=2.2.0 in c:\\users\\manas\\anaconda3\\lib\\site-packages (from rich<14,>=10.14.0->streamlit) (2.2.0)\n",
      "Requirement already satisfied: pygments<3.0.0,>=2.13.0 in c:\\users\\manas\\anaconda3\\lib\\site-packages (from rich<14,>=10.14.0->streamlit) (2.15.1)\n",
      "Requirement already satisfied: cloudpickle==2.2.1 in c:\\users\\manas\\anaconda3\\lib\\site-packages (from sagemaker<3.0.0,>=2.232.1->cohere) (2.2.1)\n",
      "Requirement already satisfied: docker in c:\\users\\manas\\anaconda3\\lib\\site-packages (from sagemaker<3.0.0,>=2.232.1->cohere) (7.1.0)\n",
      "Requirement already satisfied: google-pasta in c:\\users\\manas\\anaconda3\\lib\\site-packages (from sagemaker<3.0.0,>=2.232.1->cohere) (0.2.0)\n",
      "Requirement already satisfied: importlib-metadata<7.0,>=1.4.0 in c:\\users\\manas\\anaconda3\\lib\\site-packages (from sagemaker<3.0.0,>=2.232.1->cohere) (6.11.0)\n",
      "Requirement already satisfied: pathos in c:\\users\\manas\\anaconda3\\lib\\site-packages (from sagemaker<3.0.0,>=2.232.1->cohere) (0.3.2)\n",
      "Requirement already satisfied: platformdirs in c:\\users\\manas\\anaconda3\\lib\\site-packages (from sagemaker<3.0.0,>=2.232.1->cohere) (4.3.6)\n",
      "Requirement already satisfied: psutil in c:\\users\\manas\\anaconda3\\lib\\site-packages (from sagemaker<3.0.0,>=2.232.1->cohere) (5.9.0)\n",
      "Requirement already satisfied: sagemaker-core<2.0.0,>=1.0.0 in c:\\users\\manas\\anaconda3\\lib\\site-packages (from sagemaker<3.0.0,>=2.232.1->cohere) (1.0.10)\n",
      "Requirement already satisfied: sagemaker-mlflow in c:\\users\\manas\\anaconda3\\lib\\site-packages (from sagemaker<3.0.0,>=2.232.1->cohere) (0.1.0)\n",
      "Requirement already satisfied: schema in c:\\users\\manas\\anaconda3\\lib\\site-packages (from sagemaker<3.0.0,>=2.232.1->cohere) (0.7.7)\n",
      "Requirement already satisfied: smdebug-rulesconfig==1.0.1 in c:\\users\\manas\\anaconda3\\lib\\site-packages (from sagemaker<3.0.0,>=2.232.1->cohere) (1.0.1)\n",
      "Requirement already satisfied: tblib<4,>=1.7.0 in c:\\users\\manas\\anaconda3\\lib\\site-packages (from sagemaker<3.0.0,>=2.232.1->cohere) (1.7.0)\n",
      "Requirement already satisfied: sympy in c:\\users\\manas\\anaconda3\\lib\\site-packages (from torch>=1.11.0->sentence-transformers) (1.12)\n",
      "Requirement already satisfied: networkx in c:\\users\\manas\\anaconda3\\lib\\site-packages (from torch>=1.11.0->sentence-transformers) (3.1)\n",
      "Requirement already satisfied: mkl<=2021.4.0,>=2021.1.1 in c:\\users\\manas\\anaconda3\\lib\\site-packages (from torch>=1.11.0->sentence-transformers) (2021.4.0)\n",
      "Requirement already satisfied: shellingham>=1.3.0 in c:\\users\\manas\\anaconda3\\lib\\site-packages (from typer<1.0,>=0.12->gradio) (1.5.4)\n",
      "Requirement already satisfied: joblib>=1.1.1 in c:\\users\\manas\\anaconda3\\lib\\site-packages (from scikit-learn->sentence-transformers) (1.2.0)\n",
      "Requirement already satisfied: threadpoolctl>=2.0.0 in c:\\users\\manas\\anaconda3\\lib\\site-packages (from scikit-learn->sentence-transformers) (2.2.0)\n",
      "Requirement already satisfied: cffi>=1.12 in c:\\users\\manas\\anaconda3\\lib\\site-packages (from cryptography>=36.0.0->pdfminer.six==20231228->pdfplumber) (1.16.0)\n",
      "Requirement already satisfied: dnspython>=2.0.0 in c:\\users\\manas\\anaconda3\\lib\\site-packages (from email_validator>=2.0.0->fastapi<1.0->gradio) (2.6.1)\n",
      "Requirement already satisfied: smmap<5,>=3.0.1 in c:\\users\\manas\\anaconda3\\lib\\site-packages (from gitdb<5,>=4.0.1->gitpython!=3.1.19,<4,>=3.0.7->streamlit) (4.0.0)\n",
      "Requirement already satisfied: zipp>=0.5 in c:\\users\\manas\\anaconda3\\lib\\site-packages (from importlib-metadata<7.0,>=1.4.0->sagemaker<3.0.0,>=2.232.1->cohere) (3.17.0)\n",
      "Requirement already satisfied: jsonschema-specifications>=2023.03.6 in c:\\users\\manas\\anaconda3\\lib\\site-packages (from jsonschema>=3.0->altair<6,>=4.0->streamlit) (2023.7.1)\n",
      "Requirement already satisfied: referencing>=0.28.4 in c:\\users\\manas\\anaconda3\\lib\\site-packages (from jsonschema>=3.0->altair<6,>=4.0->streamlit) (0.30.2)\n",
      "Requirement already satisfied: rpds-py>=0.7.1 in c:\\users\\manas\\anaconda3\\lib\\site-packages (from jsonschema>=3.0->altair<6,>=4.0->streamlit) (0.10.6)\n",
      "Requirement already satisfied: mdurl~=0.1 in c:\\users\\manas\\anaconda3\\lib\\site-packages (from markdown-it-py<3.0.0,>=2.2.0->rich<14,>=10.14.0->streamlit) (0.1.0)\n",
      "Requirement already satisfied: intel-openmp==2021.* in c:\\users\\manas\\anaconda3\\lib\\site-packages (from mkl<=2021.4.0,>=2021.1.1->torch>=1.11.0->sentence-transformers) (2021.4.0)\n",
      "Requirement already satisfied: tbb==2021.* in c:\\users\\manas\\anaconda3\\lib\\site-packages (from mkl<=2021.4.0,>=2021.1.1->torch>=1.11.0->sentence-transformers) (2021.12.0)\n",
      "Requirement already satisfied: six>=1.5 in c:\\users\\manas\\anaconda3\\lib\\site-packages (from python-dateutil>=2.8.2->pandas<3,>=1.3.0->streamlit) (1.16.0)\n",
      "Requirement already satisfied: mock<5.0,>4.0 in c:\\users\\manas\\anaconda3\\lib\\site-packages (from sagemaker-core<2.0.0,>=1.0.0->sagemaker<3.0.0,>=2.232.1->cohere) (4.0.3)\n",
      "Requirement already satisfied: httptools>=0.5.0 in c:\\users\\manas\\anaconda3\\lib\\site-packages (from uvicorn[standard]>=0.12.0->fastapi<1.0->gradio) (0.6.1)\n",
      "Requirement already satisfied: python-dotenv>=0.13 in c:\\users\\manas\\anaconda3\\lib\\site-packages (from uvicorn[standard]>=0.12.0->fastapi<1.0->gradio) (0.21.0)\n",
      "Requirement already satisfied: watchfiles>=0.13 in c:\\users\\manas\\anaconda3\\lib\\site-packages (from uvicorn[standard]>=0.12.0->fastapi<1.0->gradio) (0.22.0)\n",
      "Requirement already satisfied: pywin32>=304 in c:\\users\\manas\\anaconda3\\lib\\site-packages (from docker->sagemaker<3.0.0,>=2.232.1->cohere) (305.1)\n",
      "Requirement already satisfied: ppft>=1.7.6.8 in c:\\users\\manas\\anaconda3\\lib\\site-packages (from pathos->sagemaker<3.0.0,>=2.232.1->cohere) (1.7.6.9)\n",
      "Requirement already satisfied: pox>=0.3.4 in c:\\users\\manas\\anaconda3\\lib\\site-packages (from pathos->sagemaker<3.0.0,>=2.232.1->cohere) (0.3.5)\n",
      "Requirement already satisfied: mlflow>=2.8 in c:\\users\\manas\\anaconda3\\lib\\site-packages (from sagemaker-mlflow->sagemaker<3.0.0,>=2.232.1->cohere) (2.16.2)\n",
      "Requirement already satisfied: mpmath>=0.19 in c:\\users\\manas\\anaconda3\\lib\\site-packages (from sympy->torch>=1.11.0->sentence-transformers) (1.3.0)\n",
      "Requirement already satisfied: pycparser in c:\\users\\manas\\anaconda3\\lib\\site-packages (from cffi>=1.12->cryptography>=36.0.0->pdfminer.six==20231228->pdfplumber) (2.21)\n",
      "Requirement already satisfied: mlflow-skinny==2.16.2 in c:\\users\\manas\\anaconda3\\lib\\site-packages (from mlflow>=2.8->sagemaker-mlflow->sagemaker<3.0.0,>=2.232.1->cohere) (2.16.2)\n",
      "Requirement already satisfied: Flask<4 in c:\\users\\manas\\anaconda3\\lib\\site-packages (from mlflow>=2.8->sagemaker-mlflow->sagemaker<3.0.0,>=2.232.1->cohere) (2.2.5)\n",
      "Requirement already satisfied: alembic!=1.10.0,<2 in c:\\users\\manas\\anaconda3\\lib\\site-packages (from mlflow>=2.8->sagemaker-mlflow->sagemaker<3.0.0,>=2.232.1->cohere) (1.13.3)\n",
      "Requirement already satisfied: graphene<4 in c:\\users\\manas\\anaconda3\\lib\\site-packages (from mlflow>=2.8->sagemaker-mlflow->sagemaker<3.0.0,>=2.232.1->cohere) (3.3)\n",
      "Requirement already satisfied: markdown<4,>=3.3 in c:\\users\\manas\\anaconda3\\lib\\site-packages (from mlflow>=2.8->sagemaker-mlflow->sagemaker<3.0.0,>=2.232.1->cohere) (3.4.1)\n",
      "Requirement already satisfied: matplotlib<4 in c:\\users\\manas\\anaconda3\\lib\\site-packages (from mlflow>=2.8->sagemaker-mlflow->sagemaker<3.0.0,>=2.232.1->cohere) (3.8.0)\n",
      "Requirement already satisfied: sqlalchemy<3,>=1.4.0 in c:\\users\\manas\\anaconda3\\lib\\site-packages (from mlflow>=2.8->sagemaker-mlflow->sagemaker<3.0.0,>=2.232.1->cohere) (2.0.25)\n",
      "Requirement already satisfied: waitress<4 in c:\\users\\manas\\anaconda3\\lib\\site-packages (from mlflow>=2.8->sagemaker-mlflow->sagemaker<3.0.0,>=2.232.1->cohere) (3.0.0)\n",
      "Requirement already satisfied: databricks-sdk<1,>=0.20.0 in c:\\users\\manas\\anaconda3\\lib\\site-packages (from mlflow-skinny==2.16.2->mlflow>=2.8->sagemaker-mlflow->sagemaker<3.0.0,>=2.232.1->cohere) (0.34.0)\n",
      "Requirement already satisfied: opentelemetry-api<3,>=1.9.0 in c:\\users\\manas\\anaconda3\\lib\\site-packages (from mlflow-skinny==2.16.2->mlflow>=2.8->sagemaker-mlflow->sagemaker<3.0.0,>=2.232.1->cohere) (1.26.0)\n",
      "Requirement already satisfied: opentelemetry-sdk<3,>=1.9.0 in c:\\users\\manas\\anaconda3\\lib\\site-packages (from mlflow-skinny==2.16.2->mlflow>=2.8->sagemaker-mlflow->sagemaker<3.0.0,>=2.232.1->cohere) (1.26.0)\n",
      "Requirement already satisfied: sqlparse<1,>=0.4.0 in c:\\users\\manas\\anaconda3\\lib\\site-packages (from mlflow-skinny==2.16.2->mlflow>=2.8->sagemaker-mlflow->sagemaker<3.0.0,>=2.232.1->cohere) (0.5.1)\n",
      "Requirement already satisfied: Mako in c:\\users\\manas\\anaconda3\\lib\\site-packages (from alembic!=1.10.0,<2->mlflow>=2.8->sagemaker-mlflow->sagemaker<3.0.0,>=2.232.1->cohere) (1.3.5)\n",
      "Requirement already satisfied: Werkzeug>=2.2.2 in c:\\users\\manas\\anaconda3\\lib\\site-packages (from Flask<4->mlflow>=2.8->sagemaker-mlflow->sagemaker<3.0.0,>=2.232.1->cohere) (2.2.3)\n",
      "Requirement already satisfied: itsdangerous>=2.0 in c:\\users\\manas\\anaconda3\\lib\\site-packages (from Flask<4->mlflow>=2.8->sagemaker-mlflow->sagemaker<3.0.0,>=2.232.1->cohere) (2.0.1)\n",
      "Requirement already satisfied: graphql-core<3.3,>=3.1 in c:\\users\\manas\\anaconda3\\lib\\site-packages (from graphene<4->mlflow>=2.8->sagemaker-mlflow->sagemaker<3.0.0,>=2.232.1->cohere) (3.2.4)\n",
      "Requirement already satisfied: graphql-relay<3.3,>=3.1 in c:\\users\\manas\\anaconda3\\lib\\site-packages (from graphene<4->mlflow>=2.8->sagemaker-mlflow->sagemaker<3.0.0,>=2.232.1->cohere) (3.2.0)\n",
      "Requirement already satisfied: aniso8601<10,>=8 in c:\\users\\manas\\anaconda3\\lib\\site-packages (from graphene<4->mlflow>=2.8->sagemaker-mlflow->sagemaker<3.0.0,>=2.232.1->cohere) (9.0.1)\n",
      "Requirement already satisfied: contourpy>=1.0.1 in c:\\users\\manas\\anaconda3\\lib\\site-packages (from matplotlib<4->mlflow>=2.8->sagemaker-mlflow->sagemaker<3.0.0,>=2.232.1->cohere) (1.2.0)\n",
      "Requirement already satisfied: cycler>=0.10 in c:\\users\\manas\\anaconda3\\lib\\site-packages (from matplotlib<4->mlflow>=2.8->sagemaker-mlflow->sagemaker<3.0.0,>=2.232.1->cohere) (0.11.0)\n",
      "Requirement already satisfied: fonttools>=4.22.0 in c:\\users\\manas\\anaconda3\\lib\\site-packages (from matplotlib<4->mlflow>=2.8->sagemaker-mlflow->sagemaker<3.0.0,>=2.232.1->cohere) (4.25.0)\n",
      "Requirement already satisfied: kiwisolver>=1.0.1 in c:\\users\\manas\\anaconda3\\lib\\site-packages (from matplotlib<4->mlflow>=2.8->sagemaker-mlflow->sagemaker<3.0.0,>=2.232.1->cohere) (1.4.4)\n",
      "Requirement already satisfied: pyparsing>=2.3.1 in c:\\users\\manas\\anaconda3\\lib\\site-packages (from matplotlib<4->mlflow>=2.8->sagemaker-mlflow->sagemaker<3.0.0,>=2.232.1->cohere) (3.0.9)\n",
      "Requirement already satisfied: greenlet!=0.4.17 in c:\\users\\manas\\anaconda3\\lib\\site-packages (from sqlalchemy<3,>=1.4.0->mlflow>=2.8->sagemaker-mlflow->sagemaker<3.0.0,>=2.232.1->cohere) (3.0.1)\n",
      "Requirement already satisfied: google-auth~=2.0 in c:\\users\\manas\\anaconda3\\lib\\site-packages (from databricks-sdk<1,>=0.20.0->mlflow-skinny==2.16.2->mlflow>=2.8->sagemaker-mlflow->sagemaker<3.0.0,>=2.232.1->cohere) (2.32.0)\n",
      "Requirement already satisfied: deprecated>=1.2.6 in c:\\users\\manas\\anaconda3\\lib\\site-packages (from opentelemetry-api<3,>=1.9.0->mlflow-skinny==2.16.2->mlflow>=2.8->sagemaker-mlflow->sagemaker<3.0.0,>=2.232.1->cohere) (1.2.14)\n",
      "Requirement already satisfied: opentelemetry-semantic-conventions==0.47b0 in c:\\users\\manas\\anaconda3\\lib\\site-packages (from opentelemetry-sdk<3,>=1.9.0->mlflow-skinny==2.16.2->mlflow>=2.8->sagemaker-mlflow->sagemaker<3.0.0,>=2.232.1->cohere) (0.47b0)\n",
      "Requirement already satisfied: wrapt<2,>=1.10 in c:\\users\\manas\\anaconda3\\lib\\site-packages (from deprecated>=1.2.6->opentelemetry-api<3,>=1.9.0->mlflow-skinny==2.16.2->mlflow>=2.8->sagemaker-mlflow->sagemaker<3.0.0,>=2.232.1->cohere) (1.14.1)\n",
      "Requirement already satisfied: pyasn1-modules>=0.2.1 in c:\\users\\manas\\anaconda3\\lib\\site-packages (from google-auth~=2.0->databricks-sdk<1,>=0.20.0->mlflow-skinny==2.16.2->mlflow>=2.8->sagemaker-mlflow->sagemaker<3.0.0,>=2.232.1->cohere) (0.2.8)\n",
      "Requirement already satisfied: rsa<5,>=3.1.4 in c:\\users\\manas\\anaconda3\\lib\\site-packages (from google-auth~=2.0->databricks-sdk<1,>=0.20.0->mlflow-skinny==2.16.2->mlflow>=2.8->sagemaker-mlflow->sagemaker<3.0.0,>=2.232.1->cohere) (4.9)\n",
      "Requirement already satisfied: pyasn1<0.5.0,>=0.4.6 in c:\\users\\manas\\anaconda3\\lib\\site-packages (from pyasn1-modules>=0.2.1->google-auth~=2.0->databricks-sdk<1,>=0.20.0->mlflow-skinny==2.16.2->mlflow>=2.8->sagemaker-mlflow->sagemaker<3.0.0,>=2.232.1->cohere) (0.4.8)\n"
     ]
    },
    {
     "name": "stderr",
     "output_type": "stream",
     "text": [
      "WARNING: Ignoring invalid distribution ~hromadb (C:\\Users\\manas\\anaconda3\\Lib\\site-packages)\n",
      "WARNING: Ignoring invalid distribution ~hromadb (C:\\Users\\manas\\anaconda3\\Lib\\site-packages)\n"
     ]
    }
   ],
   "source": [
    "# Install required libraries\n",
    "! pip install streamlit PyMuPDF cohere pinecone-client datasets transformers sentence-transformers pdfplumber gradio PyPDF2\n"
   ]
  },
  {
   "cell_type": "code",
   "execution_count": 3,
   "metadata": {},
   "outputs": [
    {
     "name": "stdout",
     "output_type": "stream",
     "text": [
      "sagemaker.config INFO - Not applying SDK defaults from location: C:\\ProgramData\\sagemaker\\sagemaker\\config.yaml\n",
      "sagemaker.config INFO - Not applying SDK defaults from location: C:\\Users\\manas\\AppData\\Local\\sagemaker\\sagemaker\\config.yaml\n"
     ]
    }
   ],
   "source": [
    "import streamlit as st\n",
    "import fitz  # PyMuPDF for PDF processing\n",
    "import cohere\n",
    "import pinecone\n",
    "from pinecone import Pinecone, ServerlessSpec\n",
    "from sentence_transformers import SentenceTransformer\n",
    "import pdfplumber\n",
    "import os\n",
    "from dotenv import load_dotenv\n",
    "import gradio as gr\n",
    "import PyPDF2"
   ]
  },
  {
   "cell_type": "code",
   "execution_count": 4,
   "metadata": {},
   "outputs": [],
   "source": [
    "# Load environment variables\n",
    "load_dotenv()\n",
    "\n",
    "cohere_api_key = os.getenv(\"COHERE_API_KEY\")\n",
    "pinecone_api_key = os.getenv(\"PINECONE_API_KEY\")  # Move Pinecone API key to .env file"
   ]
  },
  {
   "cell_type": "code",
   "execution_count": 5,
   "metadata": {},
   "outputs": [],
   "source": [
    "# Initialize Pinecone and Cohere clients\n",
    "pc = Pinecone(api_key=pinecone_api_key, environment=\"us-east-1\")\n",
    "co = cohere.Client(cohere_api_key)"
   ]
  },
  {
   "cell_type": "code",
   "execution_count": 6,
   "metadata": {},
   "outputs": [],
   "source": [
    "# Define the index name\n",
    "index_name = \"sample-article\"\n",
    "\n",
    "# Create Pinecone index if it doesn't exist\n",
    "if index_name not in pc.list_indexes().names():\n",
    "    spec = ServerlessSpec(cloud=\"aws\", region=\"us-east-1\")\n",
    "    pc.create_index(name=index_name, dimension=384, metric=\"cosine\", spec=spec)\n",
    "\n",
    "# Connect to the index\n",
    "index = pc.Index(index_name)"
   ]
  },
  {
   "cell_type": "code",
   "execution_count": 7,
   "metadata": {},
   "outputs": [
    {
     "name": "stderr",
     "output_type": "stream",
     "text": [
      "c:\\Users\\manas\\anaconda3\\Lib\\site-packages\\huggingface_hub\\file_download.py:1142: FutureWarning: `resume_download` is deprecated and will be removed in version 1.0.0. Downloads always resume when possible. If you want to force a new download, use `force_download=True`.\n",
      "  warnings.warn(\n"
     ]
    }
   ],
   "source": [
    "# Load pre-trained SentenceTransformer for embedding generation\n",
    "embedder = SentenceTransformer('all-MiniLM-L6-v2')"
   ]
  },
  {
   "cell_type": "code",
   "execution_count": 8,
   "metadata": {},
   "outputs": [],
   "source": [
    "\n",
    "def extract_text_from_pdf(pdf_file):\n",
    "    text = \"\"\n",
    "    try:\n",
    "        with pdfplumber.open(pdf_file) as pdf:\n",
    "            for page in pdf.pages:\n",
    "                text += page.extract_text() + \" \"\n",
    "        print(f\"Successfully extracted {len(text)} characters from PDF\")\n",
    "    except Exception as e:\n",
    "        print(f\"Error extracting text from PDF: {str(e)}\")\n",
    "    return text"
   ]
  },
  {
   "cell_type": "code",
   "execution_count": 9,
   "metadata": {},
   "outputs": [],
   "source": [
    "def process_document(pdf_file):\n",
    "    text = extract_text_from_pdf(pdf_file)\n",
    "    chunks = [text[i:i+500] for i in range(0, len(text), 500)]\n",
    "    print(f\"Created {len(chunks)} chunks from the document\")\n",
    "    \n",
    "    embeddings = embedder.encode(chunks)\n",
    "    print(f\"Generated embeddings for {len(embeddings)} chunks\")\n",
    "    \n",
    "    try:\n",
    "        vectors_to_upsert = [(f\"chunk_{i}\", emb.tolist(), {\"text\": chunk}) for i, (emb, chunk) in enumerate(zip(embeddings, chunks))]\n",
    "        index.upsert(vectors=vectors_to_upsert)\n",
    "        print(f\"Successfully uploaded {len(embeddings)} embeddings to Pinecone\")\n",
    "    except Exception as e:\n",
    "        print(f\"Error uploading embeddings to Pinecone: {str(e)}\")\n",
    "    \n",
    "    return chunks"
   ]
  },
  {
   "cell_type": "code",
   "execution_count": 10,
   "metadata": {},
   "outputs": [],
   "source": [
    "def retrieve_relevant_chunks(query, top_k=3):\n",
    "    query_embedding = embedder.encode([query])[0]\n",
    "    try:\n",
    "        query_results = index.query(vector=query_embedding.tolist(), top_k=top_k, include_metadata=True)\n",
    "        print(f\"Retrieved {len(query_results['matches'])} relevant chunks\")\n",
    "        return [match['metadata']['text'] for match in query_results['matches'] if 'metadata' in match and 'text' in match['metadata']]\n",
    "    except Exception as e:\n",
    "        print(f\"Error querying Pinecone: {str(e)}\")\n",
    "        return []"
   ]
  },
  {
   "cell_type": "code",
   "execution_count": 16,
   "metadata": {},
   "outputs": [],
   "source": [
    "def generate_answer(question, context):\n",
    "    try:\n",
    "        response = co.generate(\n",
    "            model='command',\n",
    "            prompt=f\"Context: {context}\\n\\nQuestion: {question}\\n\\nAnswer:\",\n",
    "            max_tokens=100\n",
    "        )\n",
    "        print(\"Successfully generated answer using Cohere\")\n",
    "        return response.generations[0].text\n",
    "    except Exception as e:\n",
    "        print(f\"Error generating answer with Cohere: {str(e)}\")\n",
    "        return \"Sorry, I couldn't generate an answer at this time.\""
   ]
  },
  {
   "cell_type": "code",
   "execution_count": 17,
   "metadata": {},
   "outputs": [],
   "source": [
    "def qa_bot(pdf_file, question):\n",
    "    if pdf_file is None:\n",
    "        return \"Please upload a PDF file.\"\n",
    "    \n",
    "    document_chunks = process_document(pdf_file.name)  # Use pdf_file.name to get the file path\n",
    "    relevant_chunks = retrieve_relevant_chunks(question)\n",
    "    context = \" \".join(relevant_chunks)\n",
    "    answer = generate_answer(question, context)\n",
    "    return answer"
   ]
  },
  {
   "cell_type": "code",
   "execution_count": 18,
   "metadata": {},
   "outputs": [
    {
     "name": "stdout",
     "output_type": "stream",
     "text": [
      "* Running on local URL:  http://127.0.0.1:7862\n",
      "\n",
      "To create a public link, set `share=True` in `launch()`.\n"
     ]
    },
    {
     "data": {
      "text/html": [
       "<div><iframe src=\"http://127.0.0.1:7862/\" width=\"100%\" height=\"500\" allow=\"autoplay; camera; microphone; clipboard-read; clipboard-write;\" frameborder=\"0\" allowfullscreen></iframe></div>"
      ],
      "text/plain": [
       "<IPython.core.display.HTML object>"
      ]
     },
     "metadata": {},
     "output_type": "display_data"
    },
    {
     "data": {
      "text/plain": []
     },
     "execution_count": 18,
     "metadata": {},
     "output_type": "execute_result"
    },
    {
     "name": "stdout",
     "output_type": "stream",
     "text": [
      "Successfully extracted 2341 characters from PDF\n",
      "Created 5 chunks from the document\n",
      "Generated embeddings for 5 chunks\n",
      "Successfully uploaded 5 embeddings to Pinecone\n",
      "Retrieved 3 relevant chunks\n",
      "Successfully generated answer using Cohere\n",
      "Successfully extracted 2341 characters from PDF\n",
      "Created 5 chunks from the document\n",
      "Generated embeddings for 5 chunks\n",
      "Successfully uploaded 5 embeddings to Pinecone\n",
      "Retrieved 3 relevant chunks\n",
      "Successfully generated answer using Cohere\n",
      "Successfully extracted 10733 characters from PDF\n",
      "Created 22 chunks from the document\n",
      "Generated embeddings for 22 chunks\n",
      "Successfully uploaded 22 embeddings to Pinecone\n",
      "Retrieved 3 relevant chunks\n",
      "Successfully generated answer using Cohere\n",
      "Created dataset file at: .gradio\\flagged\\dataset2.csv\n",
      "Successfully extracted 10733 characters from PDF\n",
      "Created 22 chunks from the document\n",
      "Generated embeddings for 22 chunks\n",
      "Successfully uploaded 22 embeddings to Pinecone\n",
      "Retrieved 3 relevant chunks\n",
      "Successfully generated answer using Cohere\n",
      "Successfully extracted 10733 characters from PDF\n",
      "Created 22 chunks from the document\n",
      "Generated embeddings for 22 chunks\n",
      "Successfully uploaded 22 embeddings to Pinecone\n",
      "Retrieved 3 relevant chunks\n",
      "Successfully generated answer using Cohere\n"
     ]
    }
   ],
   "source": [
    "# Gradio interface\n",
    "iface = gr.Interface(\n",
    "    fn=qa_bot,\n",
    "    inputs=[\n",
    "        gr.File(label=\"Upload PDF Document\", file_types=[\".pdf\"]),\n",
    "        gr.Textbox(label=\"Ask a Question\")\n",
    "    ],\n",
    "    outputs=gr.Textbox(label=\"Answer\"),\n",
    "    title=\"Interactive QA Bot\",\n",
    "    description=\"Upload a PDF document and ask a question based on its contents.\"\n",
    ")\n",
    "\n",
    "iface.launch()"
   ]
  }
 ],
 "metadata": {
  "kernelspec": {
   "display_name": "base",
   "language": "python",
   "name": "python3"
  },
  "language_info": {
   "codemirror_mode": {
    "name": "ipython",
    "version": 3
   },
   "file_extension": ".py",
   "mimetype": "text/x-python",
   "name": "python",
   "nbconvert_exporter": "python",
   "pygments_lexer": "ipython3",
   "version": "3.11.7"
  }
 },
 "nbformat": 4,
 "nbformat_minor": 2
}
